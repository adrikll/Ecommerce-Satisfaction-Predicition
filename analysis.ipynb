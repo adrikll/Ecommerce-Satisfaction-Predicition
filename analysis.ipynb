{
 "cells": [
  {
   "cell_type": "code",
   "execution_count": 11,
   "id": "6ae289e7",
   "metadata": {},
   "outputs": [],
   "source": [
    "import pandas as pd\n",
    "import numpy as np"
   ]
  },
  {
   "cell_type": "code",
   "execution_count": 17,
   "id": "5bda221d",
   "metadata": {},
   "outputs": [
    {
     "data": {
      "text/html": [
       "<div>\n",
       "<style scoped>\n",
       "    .dataframe tbody tr th:only-of-type {\n",
       "        vertical-align: middle;\n",
       "    }\n",
       "\n",
       "    .dataframe tbody tr th {\n",
       "        vertical-align: top;\n",
       "    }\n",
       "\n",
       "    .dataframe thead th {\n",
       "        text-align: right;\n",
       "    }\n",
       "</style>\n",
       "<table border=\"1\" class=\"dataframe\">\n",
       "  <thead>\n",
       "    <tr style=\"text-align: right;\">\n",
       "      <th></th>\n",
       "      <th>target_satisfeito</th>\n",
       "      <th>review_score</th>\n",
       "      <th>price</th>\n",
       "      <th>freight_value</th>\n",
       "      <th>customer_state</th>\n",
       "      <th>product_category_name</th>\n",
       "      <th>tempo_de_entrega_dias</th>\n",
       "      <th>review_comment_message</th>\n",
       "    </tr>\n",
       "  </thead>\n",
       "  <tbody>\n",
       "    <tr>\n",
       "      <th>0</th>\n",
       "      <td>1</td>\n",
       "      <td>4</td>\n",
       "      <td>29.99</td>\n",
       "      <td>8.72</td>\n",
       "      <td>SP</td>\n",
       "      <td>utilidades_domesticas</td>\n",
       "      <td>8</td>\n",
       "      <td>Não testei o produto ainda, mas ele veio corre...</td>\n",
       "    </tr>\n",
       "    <tr>\n",
       "      <th>1</th>\n",
       "      <td>1</td>\n",
       "      <td>4</td>\n",
       "      <td>118.70</td>\n",
       "      <td>22.76</td>\n",
       "      <td>BA</td>\n",
       "      <td>perfumaria</td>\n",
       "      <td>13</td>\n",
       "      <td>Muito bom o produto.</td>\n",
       "    </tr>\n",
       "    <tr>\n",
       "      <th>2</th>\n",
       "      <td>1</td>\n",
       "      <td>5</td>\n",
       "      <td>45.00</td>\n",
       "      <td>27.20</td>\n",
       "      <td>RN</td>\n",
       "      <td>pet_shop</td>\n",
       "      <td>13</td>\n",
       "      <td>O produto foi exatamente o que eu esperava e e...</td>\n",
       "    </tr>\n",
       "    <tr>\n",
       "      <th>3</th>\n",
       "      <td>0</td>\n",
       "      <td>1</td>\n",
       "      <td>99.00</td>\n",
       "      <td>30.53</td>\n",
       "      <td>RJ</td>\n",
       "      <td>ferramentas_jardim</td>\n",
       "      <td>12</td>\n",
       "      <td>Aguardando retorno da loja</td>\n",
       "    </tr>\n",
       "    <tr>\n",
       "      <th>4</th>\n",
       "      <td>1</td>\n",
       "      <td>4</td>\n",
       "      <td>38.25</td>\n",
       "      <td>16.11</td>\n",
       "      <td>SP</td>\n",
       "      <td>brinquedos</td>\n",
       "      <td>11</td>\n",
       "      <td>Gostei do produto</td>\n",
       "    </tr>\n",
       "  </tbody>\n",
       "</table>\n",
       "</div>"
      ],
      "text/plain": [
       "   target_satisfeito  review_score   price  freight_value customer_state  \\\n",
       "0                  1             4   29.99           8.72             SP   \n",
       "1                  1             4  118.70          22.76             BA   \n",
       "2                  1             5   45.00          27.20             RN   \n",
       "3                  0             1   99.00          30.53             RJ   \n",
       "4                  1             4   38.25          16.11             SP   \n",
       "\n",
       "   product_category_name  tempo_de_entrega_dias  \\\n",
       "0  utilidades_domesticas                      8   \n",
       "1             perfumaria                     13   \n",
       "2               pet_shop                     13   \n",
       "3     ferramentas_jardim                     12   \n",
       "4             brinquedos                     11   \n",
       "\n",
       "                              review_comment_message  \n",
       "0  Não testei o produto ainda, mas ele veio corre...  \n",
       "1                               Muito bom o produto.  \n",
       "2  O produto foi exatamente o que eu esperava e e...  \n",
       "3                         Aguardando retorno da loja  \n",
       "4                                  Gostei do produto  "
      ]
     },
     "execution_count": 17,
     "metadata": {},
     "output_type": "execute_result"
    }
   ],
   "source": [
    "df = pd.read_csv('output/dados_processados.csv')\n",
    "df.head()"
   ]
  },
  {
   "cell_type": "code",
   "execution_count": 13,
   "id": "b9356089",
   "metadata": {},
   "outputs": [
    {
     "data": {
      "text/plain": [
       "target_satisfeito\n",
       "1    26564\n",
       "0    13600\n",
       "Name: count, dtype: int64"
      ]
     },
     "execution_count": 13,
     "metadata": {},
     "output_type": "execute_result"
    }
   ],
   "source": [
    "df['target_satisfeito'].value_counts()"
   ]
  },
  {
   "cell_type": "code",
   "execution_count": 14,
   "id": "6e1575ce",
   "metadata": {},
   "outputs": [
    {
     "data": {
      "text/plain": [
       "np.int64(0)"
      ]
     },
     "execution_count": 14,
     "metadata": {},
     "output_type": "execute_result"
    }
   ],
   "source": [
    "df.isnull().sum().sum()"
   ]
  },
  {
   "cell_type": "code",
   "execution_count": 15,
   "id": "662271ff",
   "metadata": {},
   "outputs": [
    {
     "data": {
      "text/plain": [
       "(40164, 8)"
      ]
     },
     "execution_count": 15,
     "metadata": {},
     "output_type": "execute_result"
    }
   ],
   "source": [
    "df.shape"
   ]
  },
  {
   "cell_type": "code",
   "execution_count": 16,
   "id": "8f77d690",
   "metadata": {},
   "outputs": [
    {
     "data": {
      "text/html": [
       "<div>\n",
       "<style scoped>\n",
       "    .dataframe tbody tr th:only-of-type {\n",
       "        vertical-align: middle;\n",
       "    }\n",
       "\n",
       "    .dataframe tbody tr th {\n",
       "        vertical-align: top;\n",
       "    }\n",
       "\n",
       "    .dataframe thead th {\n",
       "        text-align: right;\n",
       "    }\n",
       "</style>\n",
       "<table border=\"1\" class=\"dataframe\">\n",
       "  <thead>\n",
       "    <tr style=\"text-align: right;\">\n",
       "      <th></th>\n",
       "      <th>target_satisfeito</th>\n",
       "      <th>review_score</th>\n",
       "      <th>price</th>\n",
       "      <th>freight_value</th>\n",
       "      <th>tempo_de_entrega_dias</th>\n",
       "    </tr>\n",
       "  </thead>\n",
       "  <tbody>\n",
       "    <tr>\n",
       "      <th>count</th>\n",
       "      <td>40164.000000</td>\n",
       "      <td>40164.000000</td>\n",
       "      <td>40164.000000</td>\n",
       "      <td>40164.000000</td>\n",
       "      <td>40164.000000</td>\n",
       "    </tr>\n",
       "    <tr>\n",
       "      <th>mean</th>\n",
       "      <td>0.661388</td>\n",
       "      <td>3.730331</td>\n",
       "      <td>129.254289</td>\n",
       "      <td>20.707856</td>\n",
       "      <td>12.903371</td>\n",
       "    </tr>\n",
       "    <tr>\n",
       "      <th>std</th>\n",
       "      <td>0.473243</td>\n",
       "      <td>1.580357</td>\n",
       "      <td>196.713897</td>\n",
       "      <td>16.452269</td>\n",
       "      <td>10.690385</td>\n",
       "    </tr>\n",
       "    <tr>\n",
       "      <th>min</th>\n",
       "      <td>0.000000</td>\n",
       "      <td>1.000000</td>\n",
       "      <td>0.850000</td>\n",
       "      <td>0.000000</td>\n",
       "      <td>0.000000</td>\n",
       "    </tr>\n",
       "    <tr>\n",
       "      <th>25%</th>\n",
       "      <td>0.000000</td>\n",
       "      <td>3.000000</td>\n",
       "      <td>44.587500</td>\n",
       "      <td>13.380000</td>\n",
       "      <td>6.000000</td>\n",
       "    </tr>\n",
       "    <tr>\n",
       "      <th>50%</th>\n",
       "      <td>1.000000</td>\n",
       "      <td>5.000000</td>\n",
       "      <td>79.900000</td>\n",
       "      <td>16.740000</td>\n",
       "      <td>10.000000</td>\n",
       "    </tr>\n",
       "    <tr>\n",
       "      <th>75%</th>\n",
       "      <td>1.000000</td>\n",
       "      <td>5.000000</td>\n",
       "      <td>139.990000</td>\n",
       "      <td>22.080000</td>\n",
       "      <td>16.000000</td>\n",
       "    </tr>\n",
       "    <tr>\n",
       "      <th>max</th>\n",
       "      <td>1.000000</td>\n",
       "      <td>5.000000</td>\n",
       "      <td>6735.000000</td>\n",
       "      <td>375.280000</td>\n",
       "      <td>195.000000</td>\n",
       "    </tr>\n",
       "  </tbody>\n",
       "</table>\n",
       "</div>"
      ],
      "text/plain": [
       "       target_satisfeito  review_score         price  freight_value  \\\n",
       "count       40164.000000  40164.000000  40164.000000   40164.000000   \n",
       "mean            0.661388      3.730331    129.254289      20.707856   \n",
       "std             0.473243      1.580357    196.713897      16.452269   \n",
       "min             0.000000      1.000000      0.850000       0.000000   \n",
       "25%             0.000000      3.000000     44.587500      13.380000   \n",
       "50%             1.000000      5.000000     79.900000      16.740000   \n",
       "75%             1.000000      5.000000    139.990000      22.080000   \n",
       "max             1.000000      5.000000   6735.000000     375.280000   \n",
       "\n",
       "       tempo_de_entrega_dias  \n",
       "count           40164.000000  \n",
       "mean               12.903371  \n",
       "std                10.690385  \n",
       "min                 0.000000  \n",
       "25%                 6.000000  \n",
       "50%                10.000000  \n",
       "75%                16.000000  \n",
       "max               195.000000  "
      ]
     },
     "execution_count": 16,
     "metadata": {},
     "output_type": "execute_result"
    }
   ],
   "source": [
    "df.describe()"
   ]
  }
 ],
 "metadata": {
  "kernelspec": {
   "display_name": ".venv",
   "language": "python",
   "name": "python3"
  },
  "language_info": {
   "codemirror_mode": {
    "name": "ipython",
    "version": 3
   },
   "file_extension": ".py",
   "mimetype": "text/x-python",
   "name": "python",
   "nbconvert_exporter": "python",
   "pygments_lexer": "ipython3",
   "version": "3.13.5"
  }
 },
 "nbformat": 4,
 "nbformat_minor": 5
}
